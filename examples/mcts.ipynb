{
 "cells": [
  {
   "cell_type": "code",
   "execution_count": 1,
   "id": "990e82ea-5465-4a3b-9eb6-c5d2c29107bd",
   "metadata": {},
   "outputs": [
    {
     "name": "stderr",
     "output_type": "stream",
     "text": [
      "/Users/farouqoyebiyi/anaconda3/lib/python3.10/site-packages/pandas/core/arrays/masked.py:60: UserWarning: Pandas requires version '1.3.6' or newer of 'bottleneck' (version '1.3.5' currently installed).\n",
      "  from pandas.core import (\n"
     ]
    }
   ],
   "source": [
    "import sys\n",
    "sys.path.append('..')\n",
    "\n",
    "from treebeard.research import MCTSDeepResearch\n",
    "from treebeard.store import Document, VectorIndex\n",
    "from treebeard.crawler import WebSearch\n",
    "from treebeard.generator import text_generator, embedding_generator\n",
    "import pandas as pd\n",
    "import numpy as np\n",
    "import os"
   ]
  },
  {
   "cell_type": "code",
   "execution_count": 2,
   "id": "946b2cab-f190-4ff8-bc63-15cfa80d7ba4",
   "metadata": {},
   "outputs": [],
   "source": [
    "documents = pd.read_csv('archiving_1973.csv')"
   ]
  },
  {
   "cell_type": "code",
   "execution_count": 3,
   "id": "8d6abcf3-36e6-42a6-bbf3-83e415a28b9a",
   "metadata": {},
   "outputs": [
    {
     "data": {
      "text/plain": [
       "(1100, 4)"
      ]
     },
     "execution_count": 3,
     "metadata": {},
     "output_type": "execute_result"
    }
   ],
   "source": [
    "documents.shape"
   ]
  },
  {
   "cell_type": "code",
   "execution_count": 4,
   "id": "3dca430d-6d83-48d8-bb99-af90b5d7ba80",
   "metadata": {},
   "outputs": [
    {
     "name": "stdout",
     "output_type": "stream",
     "text": [
      "1100\n",
      "['Economic development of Nigeria contrasting 1973 with current trends: Introduction', 'Economic development of Nigeria contrasting 1973 with current trends: Economic Overview of Nigeria in 1973', 'Economic development of Nigeria contrasting 1973 with current trends: Current Economic Trends in Nigeria', 'Economic development of Nigeria contrasting 1973 with current trends: Comparison of 1973 and Current Economic Indicators', 'Economic development of Nigeria contrasting 1973 with current trends: Conclusion and Future Outlook']\n"
     ]
    },
    {
     "name": "stderr",
     "output_type": "stream",
     "text": [
      "Some weights of RobertaModel were not initialized from the model checkpoint at roberta-large and are newly initialized: ['pooler.dense.bias', 'pooler.dense.weight']\n",
      "You should probably TRAIN this model on a down-stream task to be able to use it for predictions and inference.\n"
     ]
    }
   ],
   "source": [
    "##### Create dummy documents\n",
    "docs = []\n",
    "\n",
    "for i in range(documents.shape[0]):\n",
    "    row = documents.iloc[i]\n",
    "\n",
    "    docs.append(Document(row['_id'], row['text'], row['topics'],\n",
    "                         embedding_generator(row['text']), row['filename']))\n",
    "    \n",
    "print(len(docs))\n",
    "vector_index = VectorIndex(docs)\n",
    "web_search = WebSearch(os.environ['GOOGLE_API_KEY'], os.environ['CUSTOM_SEARCH_ENGINE_ID'])\n",
    "research_assitant = MCTSDeepResearch(\n",
    "    vector_index, \n",
    "    web_search,\n",
    "    text_generator, \n",
    "    embedding_generator,\n",
    "    text_generator,\n",
    "    max_iterations=10\n",
    ")\n",
    "\n",
    "outline, path, searches = research_assitant.generate_research_report(\"Economic development of Nigeria contrasting 1973 with current trends\", \n",
    "                                                                     reportAgainstArchive=False)\n",
    "\n",
    "# Generate final document\n",
    "# document = generator.generate_final_document(outline)\n",
    "\n",
    "# print(f\"Report: {outline.title}\")\n",
    "# print(f\"Used {searches} web searches\")\n",
    "# print(\"=\" * 50)\n",
    "# print(f\"Overall confidence: {outline.overall_confidence:.2f}\")\n",
    "# print(f\"Citations: {outline.citation_count}\")\n",
    "\n",
    "# return document, outline, path"
   ]
  },
  {
   "cell_type": "code",
   "execution_count": 5,
   "id": "e6a78ee0-6cce-4f9d-857b-82fb63cfc4d5",
   "metadata": {},
   "outputs": [
    {
     "data": {
      "text/plain": [
       "([(<ActionType.SELECT_SECTION: 'select_section'>, 4),\n",
       "  (<ActionType.BACK_TO_OUTLINE: 'back_to_outline'>, None)],\n",
       " 0)"
      ]
     },
     "execution_count": 5,
     "metadata": {},
     "output_type": "execute_result"
    }
   ],
   "source": [
    "path, searches"
   ]
  },
  {
   "cell_type": "code",
   "execution_count": 7,
   "id": "19abc82f-13f6-4796-9db4-f2c4a69b675a",
   "metadata": {},
   "outputs": [],
   "source": [
    "document = research_assitant.generate_final_document(outline)"
   ]
  },
  {
   "cell_type": "code",
   "execution_count": 8,
   "id": "93e2f9e9-286b-4726-8b52-735c1565209e",
   "metadata": {},
   "outputs": [
    {
     "name": "stdout",
     "output_type": "stream",
     "text": [
      "# Research Report: Economic development of Nigeria contrasting 1973 with current trends\n",
      "\n",
      "## Economic development of Nigeria contrasting 1973 with current trends: Introduction\n",
      "\n",
      "The economic development of Nigeria has undergone significant transformations from the early 1970s until the present day. In 1973, Nigeria was still reveling in the euphoria of its oil boom. The initial wealth generated from this newfound resource led the nation to pursue ambitious development projects, with a heavy focus on industrialization and infrastructural growth. This era epitomized a hopeful vision of economic prosperity fueled by soaring crude oil prices and vast foreign investments, resulting in a surge of public spending. The dream of a better future for Nigerian citizens seemed within reach, as leaders proclaimed aspirations of national greatness driven by the burgeoning oil wealth.\n",
      "\n",
      "However, the trajectory of Nigeria's development soon shifted dramatically. By the 1980s, particularly following the oil price crash in 1981, Nigeria found itself grappling with a sharply declining economy. The over-reliance on oil revenues exposed severe structural weaknesses within the economy. The heady growth of the early '70s gave way to economic instability characterized by high inflation, escalating debt burdens, and a significant decline in living standards. Policies aimed at stabilizing the economy often proved ineffective and resulted in a cycle of abandoned projects and factory closures. Rather than achieving self-sustained growth, the country entered a phase of economic decline that culminated in a request for assistance from international financial institutions, reflecting a desperate attempt to stabilize an economy in freefall.\n",
      "\n",
      "Since that time, Nigeria has implemented various economic reforms and policies aimed at addressing the systemic issues that have repeatedly beleaguered the economy. Notably, the Structural Adjustment Program (SAP) initiated in 1986 sought to restructure and diversify Nigeria's economy, reducing its long-standing dependence on oil. These policies aimed to achieve more efficient resource allocation, stabilize the economy, and lay the groundwork for sustainable growth by supporting the private sector. Key components of these reforms included the liberalization of trade, deregulation of key sectors, and adjustments to fiscal and monetary policies that facilitated foreign investment.\n",
      "\n",
      "The country has recognized the necessity of diversification, actively promoting sectors such as agriculture, technology, and tourism to mitigate the risks associated with oil dependency. In recent years, the government has focused on enhancing ease of doing business, offering incentives for small and medium-sized enterprises (SMEs), and improving infrastructure to make Nigeria a more attractive destination for investment. Such efforts have been bolstered by international partnerships aimed at fostering innovation and technology transfer.\n",
      "\n",
      "In stark contrast to 1973, today’s economic landscape of Nigeria is marked by various elements, including a significant push for diversification beyond oil, turning attention to sectors like agriculture and technology. While the vast potential for foreign exchange in natural gas has begun to be recognized and harnessed, the nation still wrestles with the legacy of its past, including a heavy debt burden and the repercussions of structural adjustment programs initiated in response to the financial crisis. Current policies focus on creating an enabling environment for private sector growth, with an emphasis on promoting small and medium enterprises as vital players in the economy.\n",
      "\n",
      "Significantly, foreign investment plays a critical role in Nigeria's current economic landscape compared to the 1970s. The liberalization of investment policies has opened the door to a broader range of foreign direct investments (FDIs). In particular, sectors such as telecommunications, agriculture, and renewable energy have attracted substantial foreign capital, fostering job creation and technological advancement. The government's commitment to improving the ease of doing business is aimed at reversing the past reluctance of investors deterred by bureaucratic obstacles.\n",
      "\n",
      "The government's recognition of the historical lopsidedness of industrial development is a pivotal shift from 1973. While the past was characterized by the concentration of industries in urban centers like Lagos and Kano, current trends advocate for utilizing the country's vast natural resources to stimulate economic activity across more geographically diverse regions. This approach aims not just at economic recovery but also at establishing a more equitable economic foundation that can sustain growth even when global oil prices falter.\n",
      "\n",
      "Moreover, the socio-economic landscape has greatly influenced these economic dynamics. Social factors such as education and health have played increasingly critical roles in shaping Nigeria's economic trajectory. Since the 1970s, Nigeria has made substantial investments in education. However, despite these efforts, the education system continues to struggle with issues such as quality, accessibility, and alignment with labor market needs. The importance of a well-educated workforce cannot be overstated, as it is essential for fostering innovation and attracting FDI. Recent data shows that initiatives aimed at improving vocational training and STEM (Science, Technology, Engineering, and Mathematics) education are gaining traction, reflecting a shift toward a knowledge-based economy.\n",
      "\n",
      "In terms of health, while healthcare delivery systems have improved since independence, access remains uneven, and many citizens still lack adequate medical services. The World Health Organization highlights the necessity of investing in healthcare infrastructure as a means to enhance productivity and economic stability. Addressing health disparities has become paramount, as improving public health directly contributes to economic development by fostering a more capable and productive workforce. Recent strategies focus on integrating health services with economic policies, underscoring the need for comprehensive approaches that recognize the interdependence of health and economic performance.\n",
      "\n",
      "The stark contrast between the initial optimism of the 1970s and the current pragmatic approach to economic challenges illustrates a journey fraught with lessons learned through years of gains and losses. The resilience of Nigeria’s economy will depend significantly on its ability to navigate the complexities of global economic pressures while fostering sustainable internal growth structures. The dual narrative of resource wealth and economic struggle continues to define Nigeria's economic identity, presenting both challenges and opportunities for the current generation. With a renewed focus on inclusivity and diversification—and the essential integration of social factors such as education and health—the nation is striving to forge a path toward a more stable and prosperous economic future.\n",
      "\n",
      "### Sources\n",
      "- [Source: Magazines/The Nigerian Economist/1989/October 1989/October 1, 1989 (Vol.3, NO 1)/The Nigerian Economist October 1_1989_Pg 04.tif]\n",
      "- [Source: Magazines/The Nigerian Economist/1989/January 1989/January 17, 1989 (Vol 2, NO 9)/The Nigerian Economist January 17_1989_Pg 01.tif]\n",
      "- [Source: Magazines/The Nigerian Economist/1989/January 1989/January 31, 1989 (Vol 2, NO 10)/The Nigerian Economist January 31_1989_Pg 06.tif]\n",
      "- [Source: Magazines/The Nigerian Economist/1989/October 1989/October 1, 1989 (Vol.3, NO 1)/The Nigerian Economist October 1_1989_Pg 57.tif]\n",
      "- [Source: Magazines/The Nigerian Economist/1989/October 1989/October 1, 1989 (Vol.3, NO 1)/The Nigerian Economist October 1_1989_Pg 07.tif]\n",
      "- [Source: Magazines/Business/1989/December 1989/December 5, 1989/Business December 5_1989_Pg 5.tif]\n",
      "- [Source: Magazines/The Nigerian Economist/1989/January 1989/January 31, 1989 (Vol 2, NO 10)/The Nigerian Economist January 31_1989_Pg 36.tif]\n",
      "- [Source: Magazines/The Nigerian Economist/1989/June 1989/June 6, 1989 (Vol.4, NO 23)/The Nigerian Economist June 6_1989_Pg 05.tif]\n",
      "\n",
      "## Economic development of Nigeria contrasting 1973 with current trends: Economic Overview of Nigeria in 1973\n",
      "\n",
      "Since 1973, Nigeria has undergone profound demographic changes and urbanization trends that have significantly influenced its economic development. The country has experienced rapid population growth, resulting in an estimated increase from around 60 million people in the early 1970s to over 200 million today. This growth has been accompanied by substantial urbanization, with more than half of Nigeria's population now living in urban areas. Cities like Lagos and Abuja have expanded dramatically, creating a burgeoning workforce but also straining infrastructure and resources. The concentration of people in urban centers has led to increased demand for housing, transportation, education, and healthcare services, which in turn has spurred government and private sector interest in urban infrastructure development, often with insufficient planning and resources to meet the needs of the growing populace.\n",
      "\n",
      "In the early 1970s, Nigeria's economy was significantly impacted by the oil boom, leading to policies aimed at managing the influx of oil revenue and its repercussions on other sectors. The government introduced the \"Petroleum Equalization Fund,\" which was designed to stabilize fuel prices across regions and ensure adequate supply, addressing the severe shortages of petroleum products experienced in the mid-1970s due to rapid increases in domestic demand. Substantial investment in refining capacity characterized this period, with significant sums allocated for establishing new refineries and enhancing existing ones, notably the Port Harcourt and Warri refineries, thus aiming to reduce reliance on imported petroleum products. \n",
      "\n",
      "The urbanization trend has also catalyzed a shift in Nigeria's economy as new industries and sectors have emerged in response to the needs of urban residents. For instance, the technology sector has gained momentum, with Lagos becoming a hub for startup innovation and digital entrepreneurship, partly driven by the country's youthful population. However, this demographic shift has exacerbated challenges such as unemployment and underemployment, particularly among the youth, who are often unable to secure jobs in a labor market that has not kept pace with population growth.\n",
      "\n",
      "In response to these ongoing challenges, the Nigerian government has implemented several specific measures to address unemployment and infrastructural deficits. Programs such as the National Social Investment Program, launched in 2016, aim to provide financial assistance, vocational training, and employment opportunities for the poorest citizens. Additionally, the government has sought to enhance infrastructural development through initiatives like the Economic Recovery and Growth Plan (ERGP), which emphasizes investments in critical sectors such as energy, transportation, and technology. Public-private partnerships have increasingly been encouraged to bridge the funding gap and leverage private sector efficiency in executing major capital projects.\n",
      "\n",
      "Furthermore, recent legislation has focused on improving the ease of doing business to attract foreign investment, which is crucial for job creation and economic diversification. Efforts to develop the agricultural sector, aimed at reducing reliance on oil and increasing food production, have also seen renewed focus, with initiatives promoting agribusiness through easier access to financing and market opportunities. The establishment of the Nigerian Incentive-Based Risk Sharing System for Agricultural Lending (NIRSAL) in 2019 exemplifies this effort, facilitating financing for smallholder farmers.\n",
      "\n",
      "Despite these efforts, Nigeria remains beset by challenges of governance and corruption that hinder effective policy implementation. The long-standing issues of regulatory inefficiencies and bureaucratic hurdles continue to frustrate economic initiatives. Nevertheless, the current push towards diversification and sustainable growth reflects a recognition that addressing demographic changes and urbanization trends is essential for long-term economic stability and development. As Nigeria seeks to harness its demographic potential, the interplay of these factors will continue to shape the nation’s economic narrative in the years to come.\n",
      "\n",
      "### Sources\n",
      "- [Source: Google Search - https://www.jstor.org/stable/421638]\n",
      "- [Source: Google Search - https://newleftreview.org/issues/i81/articles/bill-warren-imperialism-and-capitalist-industrialization]\n",
      "- [Source: Google Search - https://pmc.ncbi.nlm.nih.gov/articles/PMC2781829/]\n",
      "- [Source: Google Search - https://pmc.ncbi.nlm.nih.gov/articles/PMC8943278/]\n",
      "- [Source: Google Search - https://hdr.undp.org/system/files/documents/global-report-document/hdr2023-24reporten.pdf]\n",
      "- [Source: Google Search - https://sustainabledevelopment.un.org/content/documents/5987our-common-future.pdf]\n",
      "- [Source: Magazines/The Nigerian Economist/1989/January 1989/January 17, 1989 (Vol 2, NO 9)/The Nigerian Economist January 17_1989_Pg 01.tif]\n",
      "- [Source: Magazines/The Nigerian Economist/1989/October 1989/October 1, 1989 (Vol.3, NO 1)/The Nigerian Economist October 1_1989_Pg 04.tif]\n",
      "- [Source: Magazines/The Nigerian Economist/1989/January 1989/January 31, 1989 (Vol 2, NO 10)/The Nigerian Economist January 31_1989_Pg 36.tif]\n",
      "- [Source: Magazines/The Nigerian Economist/1989/October 1989/October 1, 1989 (Vol.3, NO 1)/The Nigerian Economist October 1_1989_Pg 57.tif]\n",
      "- [Source: Magazines/Business/1989/December 1989/December 5, 1989/Business December 5_1989_Pg 5.tif]\n",
      "- [Source: Magazines/The Nigerian Economist/1989/November 1989/November 13, 1989 (Vol 3, NO 3)/The Nigerian Economist November 13_1989_Pg 12.tif]\n",
      "- [Source: Magazines/The Nigerian Economist/1989/October 1989/October 1, 1989 (Vol.3, NO 1)/The Nigerian Economist October 1_1989_Pg 07.tif]\n",
      "- [Source: Magazines/The Nigerian Economist/1989/January 1989/January 31, 1989 (Vol 2, NO 10)/The Nigerian Economist January 31_1989_Pg 37.tif]\n",
      "- [Source: Magazines/The Nigerian Economist/1989/January 1989/January 31, 1989 (Vol 2, NO 10)/The Nigerian Economist January 31_1989_Pg 06.tif]\n",
      "\n",
      "## Economic development of Nigeria contrasting 1973 with current trends: Current Economic Trends in Nigeria\n",
      "\n",
      "Nigeria's economic development trajectory since 1973 continues to evolve, particularly in response to the critical need for diversification and addressing historical inequalities. As part of ongoing efforts to promote diversification, the Nigerian government has implemented various policies aimed at reducing reliance on oil and enhancing other sectors' productivity. Recently, initiatives such as the Economic Recovery and Growth Plan (ERGP) have been introduced, focusing on agriculture, manufacturing, and the service sectors, with the intention of fostering a more inclusive economic environment. Specific policies include the establishment of the Presidential Enabling Business Environment Council (PEBEC) to streamline regulations, the promotion of small and medium-sized enterprises (SMEs), and targeted interventions in agricultural productivity and value addition.\n",
      "\n",
      "Current socioeconomic inequalities in Nigeria remain daunting, albeit evolving. In 1973, the disparities in income and opportunity were closely tied to the oil wealth concentrated among a small elite, stemming from government policies that favored particular regions and ethnic groups. Today, while oil wealth continues to exacerbate socio-economic divides, emerging data indicates a widening gap between urban and rural populations in access to education, healthcare, and economic opportunities. The wealth distribution challenges remain stark, with recent reports showing that about 40% of Nigeria's population lives below the poverty line, reflecting similarities with the inequalities observed in the early 1970s but amplified by growing population pressures and economic mismanagement.\n",
      "\n",
      "In technological advancements, Nigeria has seen transformative changes since 1973, particularly with the rise of digital technology and innovation. The telecommunications sector has experienced significant growth, becoming one of the most vibrant sectors of the economy and contributing to increased access to information and communication technologies. This sector has fueled economic opportunities, enabling a younger generation to engage in digital entrepreneurship and e-commerce. Moreover, innovations such as mobile banking and online marketplaces have expanded financial inclusion and economic activity, contrasting sharply with the 1970s, where traditional industries dominated, and technological integration was minimal. As technology continues to reshape the economy, it offers potential solutions to longstanding issues, including wealth distribution and regional disparity, if leveraged appropriately through policy and investment in education and skills development.\n",
      "\n",
      "In summary, the economic landscape of Nigeria from 1973 to the present exemplifies a complex evolution marked by oil wealth dependency, widening inequalities, and an ongoing shift toward diversification bolstered by technological advancements. Efforts are underway to harness these dynamics for sustainable growth, but the pressing challenges of corruption, governance, and historical disparities remain central to Nigeria's developmental narrative.\n",
      "\n",
      "### Sources\n",
      "- [Source: Google Search - https://www.jstor.org/stable/421638]\n",
      "- [Source: Google Search - https://pmc.ncbi.nlm.nih.gov/articles/PMC2781829/]\n",
      "- [Source: Google Search - https://comparativemigrationstudies.springeropen.com/articles/10.1186/s40878-015-0015-6]\n",
      "- [Source: Google Search - https://pmc.ncbi.nlm.nih.gov/articles/PMC5536857/]\n",
      "- [Source: Google Search - https://www.jstor.org/stable/421638]\n",
      "- [Source: Google Search - https://pmc.ncbi.nlm.nih.gov/articles/PMC10786006/]\n",
      "- [Source: Google Search - https://sustainabledevelopment.un.org/content/documents/5987our-common-future.pdf]\n",
      "- [Source: Google Search - https://pmc.ncbi.nlm.nih.gov/articles/PMC2781829/]\n",
      "- [Source: Google Search - https://hdr.undp.org/system/files/documents/global-report-document/hdr2023-24reporten.pdf]\n",
      "- [Source: Magazines/The Nigerian Economist/1989/January 1989/January 31, 1989 (Vol 2, NO 10)/The Nigerian Economist January 31_1989_Pg 06.tif]\n",
      "- [Source: Magazines/The Nigerian Economist/1989/January 1989/January 17, 1989 (Vol 2, NO 9)/The Nigerian Economist January 17_1989_Pg 01.tif]\n",
      "- [Source: Magazines/The Nigerian Economist/1989/July 1989/July 18, 1989 (Vol.2, NO 22)/The Nigerian Economist July 18_1989_Pg 29.tif]\n",
      "- [Source: Magazines/The Nigerian Economist/1989/June 1989/June 20, 1989 (Vol 2, NO 20)/The Nigerian Economist June 20_1989_Pg 15.tif]\n",
      "- [Source: Magazines/The Nigerian Economist/1989/May 1989/May 23, 1989 (Vol 2, NO 18)/The Nigerian Economist May 23_1989_Pg 08.tif]\n",
      "\n",
      "## Economic development of Nigeria contrasting 1973 with current trends: Comparison of 1973 and Current Economic Indicators\n",
      "\n",
      "The economic development of Nigeria from 1973 to the present reflects notable shifts in industrial and economic structures, particularly regarding various sectors' contributions to GDP. In the early 1970s, during the oil boom, Nigeria's economy was heavily reliant on oil, contributing approximately 64% to the GDP. The substantial revenue generated from oil allowed the government to embark on infrastructure projects and national development initiatives. However, this dependence on a single sector left Nigeria vulnerable to price fluctuations in the global oil market.\n",
      "\n",
      "By 2022, oil's contribution to the GDP plummeted to about 7%, highlighting a pressing need for economic diversification. Several factors contributed to this decline, such as volatility in oil prices, advancements in renewable energy technologies, and growing international concerns regarding climate change and sustainability. To tackle these challenges, the Nigerian government has been implementing various policies aimed at boosting other sectors, including agriculture, manufacturing, and services. \n",
      "\n",
      "The agriculture sector, once the backbone of Nigeria's economy, has experienced a significant revival driven by initiatives focused on food security and self-sufficiency, particularly following the oil price shocks. Recently, the agricultural sector has been contributing between 22% and 30% to GDP, underscoring its role in employment generation and rural development. The Agricultural Transformation Agenda has been pivotal in modernizing this sector, encouraging innovation, and attracting investments.\n",
      "\n",
      "Turning to manufacturing, a sector that had been stagnant, recent government efforts aimed at enhancing local production capabilities, attracting foreign investment, and reducing import reliance appear to be bearing fruit. The contribution of manufacturing to GDP is approximately 10% as of 2022. Nevertheless, challenges remain, including persistent issues such as insufficient power supply and inadequate infrastructure hampering growth.\n",
      "\n",
      "The services sector has undergone remarkable expansion, particularly in telecommunications and financial services, propelled by technological advancements and an increase in smartphone usage. As of the latest statistics, the services sector now accounts for over 50% of Nigeria's GDP, indicative of a significant shift towards a knowledge-based economy. The growth of the fintech sector and digital services is promising, playing a crucial role in enabling economic resilience and integration into the global market.\n",
      "\n",
      "Economic indicators for Nigeria have evolved significantly since 1973. In 1973, Nigeria's GDP growth rate was notably high, propelled by oil revenues, while inflation rates were relatively low, hovering around 11%. Fast forward to the most recent data, the GDP growth rate in 2022 was 3.40%, whereas inflation surged to approximately 19.6%, demonstrating the economic volatility the country continues to face. Additionally, the unemployment rate, which was 4% in 1973, has dramatically increased to 33.3% as of 2022, pointing to a significant challenge in job creation amidst economic transformation.\n",
      "\n",
      "Over the decades, Nigeria has introduced several initiatives to address these economic challenges. The Economic Stabilization Act of 1982 aimed at revamping economic policies without extensive parliamentary oversight. Subsequent initiatives included the Structural Adjustment Program initiated in the mid-1980s to facilitate deregulation and market liberalization. More recently, the National Economic Recovery and Growth Plan (ERGP) and the Economic Sustainability Plan (ESP) introduced by the current administration aim to reposition the economy for sustainable growth, emphasizing diversification, infrastructure development, and enhancing the business environment.\n",
      "\n",
      "Despite these positive advancements, Nigeria grapples with ongoing issues such as infrastructural deficits, political instability, and corruption, which hinder overall economic performance and potential growth. The need for a balanced economic framework remains urgent as Nigeria seeks to navigate these challenges while aiming for sustainable development in line with global economic shifts. \n",
      "\n",
      "In conclusion, the industrial and economic structure of Nigeria from 1973 to the present illustrates a dramatic transformation from an oil-dependent economy to one that aspires to diversify across agriculture, manufacturing, and services. This evolution is vital for ensuring the country’s long-term growth and stability, especially as it faces persistent challenges in an ever-changing global economic landscape.\n",
      "\n",
      "### Sources\n",
      "- [Source: Google Search - https://pmc.ncbi.nlm.nih.gov/articles/PMC2781829/]\n",
      "- [Source: Google Search - https://www.jstor.org/stable/421638]\n",
      "- [Source: Google Search - https://www.migrationdataportal.org/regional-data-overview/western-africa]\n",
      "- [Source: Google Search - https://www.elibrary.imf.org/view/journals/024/1974/002/article-A001-en.xml]\n",
      "- [Source: Google Search - https://sustainabledevelopment.un.org/content/documents/5987our-common-future.pdf]\n",
      "- [Source: Google Search - https://economics.mit.edu/sites/default/files/publications/institutions-as-the-fundamental-cause-of-long-run-.pdf]\n",
      "- [Source: Magazines/The Nigerian Economist/1989/January 1989/January 17, 1989 (Vol 2, NO 9)/The Nigerian Economist January 17_1989_Pg 01.tif]\n",
      "- [Source: Magazines/The Nigerian Economist/1989/December 1989/December 25, 1989 (Vol.3, NO 6)/The Nigerian Economist December 25_1989_Pg 37.tif]\n",
      "- [Source: Magazines/The Nigerian Economist/1989/October 1989/October 1, 1989 (Vol.3, NO 1)/The Nigerian Economist October 1_1989_Pg 57.tif]\n",
      "- [Source: Magazines/The Nigerian Economist/1989/January 1989/January 17, 1989 (Vol 2, NO 9)/The Nigerian Economist January 17_1989_Pg 18.tif]\n",
      "- [Source: Magazines/The Nigerian Economist/1989/May 1989/May 9, 1989 (Vol.2, NO 17)/The Nigerian Economist May 9_1989_Pg 53.tif]\n",
      "- [Source: Google Search - https://pmc.ncbi.nlm.nih.gov/articles/PMC8943278/]\n",
      "- [Source: Google Search - https://sustainabledevelopment.un.org/content/documents/5987our-common-future.pdf]\n",
      "- [Source: Google Search - https://www.migrationdataportal.org/regional-data-overview/western-africa]\n",
      "\n",
      "## Economic development of Nigeria contrasting 1973 with current trends: Conclusion and Future Outlook\n",
      "\n",
      "Economic development in Nigeria has undergone significant changes from 1973 to the present, reflecting the complexities and challenges of managing a resource-rich economy in a globalized world. In 1973, Nigeria was witnessing substantial economic growth driven primarily by oil revenues, which had surged due to the oil crisis of the early 1970s. This period ushered in a \"petro-dollar\" era where the government embarked on grand infrastructure projects and social welfare programs, aiming to utilize newfound wealth to lift the nation out of poverty and underdevelopment. However, the reliance on oil revenues created a skewed economic structure vulnerable to fluctuations in global oil prices. \n",
      "\n",
      "By the late 1980s, this dependence became increasingly problematic. The early signs of economic distress appeared as oil prices began to fall post-1981, significantly affecting government revenues. The economic trends of the 1980s were marred by mismanagement, corruption, and an overreliance on short-term fixes rather than sustainable development strategies. During this decade, Nigeria faced a profound recession with rampant inflation, declining industrial output, and increasing unemployment rates. Living standards deteriorated as the government struggled to maintain its commitments to social services amidst mounting debt.\n",
      "\n",
      "Contrasting with the developments of 1973, present-day Nigeria is grappling with a plethora of challenges that continue to shape its economic landscape. While there have been strides towards diversifying the economy beyond oil, such initiatives often encounter obstacles ranging from infrastructural deficits to inadequate policy implementation. The current economy still reflects a reliance on oil, though efforts are being made to harness other sectors such as agriculture, technology, and natural gas. The government’s recent focus on foreign investment, deregulation of sectors previously restricted, and the promotion of small and medium enterprises signals an attempt to foster economic resilience and sustainability.\n",
      "\n",
      "The structural adjustment programs that started in the 1980s were designed to enhance the operational efficiency of the economy; however, these measures often had adverse social impacts, leading to protests and societal unrest. Critics argue that despite the need for reforms, policy implementation has frequently lacked coherence, resulting in continued economic instability. Many Nigerians still experience high levels of poverty and unemployment, indicating that the intended outcomes of these economic policies have not universally materialized.\n",
      "\n",
      "Looking forward, the future outlook for Nigeria’s economy will depend on its ability to create a more balanced and inclusive economic framework. The government must prioritize long-term development strategies that advocate for technological innovation, improve healthcare and education, and address the rampant corruption and bureaucratic inefficiencies that have plagued the nation. The potential lies in diversifying the economy, enhancing agricultural production, and leveraging Nigeria’s vast human resources to stimulate growth across various sectors.\n",
      "\n",
      "The lessons learned from the past, particularly the economic mistakes made in the decades following independence, serve as cautionary tales for policymakers as they navigate the complexities of a modern economy. Nigeria's path forward must embrace structural reforms that promote entrepreneurship, safeguard fiscal discipline, and foster a favorable investment climate, all while ensuring that the benefits of economic growth are equitably distributed among its citizens. The challenge remains daunting, but the insights gained from Nigeria’s economic journey offer a foundation upon which a more resilient and prosperous future can be built.\n",
      "\n",
      "### Sources\n",
      "- [Source: Magazines/The Nigerian Economist/1989/October 1989/October 1, 1989 (Vol.3, NO 1)/The Nigerian Economist October 1_1989_Pg 04.tif]\n",
      "- [Source: Magazines/The Nigerian Economist/1989/January 1989/January 17, 1989 (Vol 2, NO 9)/The Nigerian Economist January 17_1989_Pg 01.tif]\n",
      "- [Source: Magazines/The Nigerian Economist/1989/January 1989/January 31, 1989 (Vol 2, NO 10)/The Nigerian Economist January 31_1989_Pg 06.tif]\n",
      "- [Source: Magazines/The Nigerian Economist/1989/October 1989/October 1, 1989 (Vol.3, NO 1)/The Nigerian Economist October 1_1989_Pg 57.tif]\n",
      "- [Source: Magazines/The Nigerian Economist/1989/October 1989/October 1, 1989 (Vol.3, NO 1)/The Nigerian Economist October 1_1989_Pg 07.tif]\n",
      "\n",
      "\n",
      "---\n",
      "Confidence Score: 0.86\n",
      "Citations: 56\n",
      "\n"
     ]
    }
   ],
   "source": [
    "print(document)"
   ]
  },
  {
   "cell_type": "code",
   "execution_count": null,
   "id": "0de634ba-cd69-4885-b085-7d0d9362c142",
   "metadata": {},
   "outputs": [],
   "source": []
  }
 ],
 "metadata": {
  "kernelspec": {
   "display_name": "Python 3 (ipykernel)",
   "language": "python",
   "name": "python3"
  },
  "language_info": {
   "codemirror_mode": {
    "name": "ipython",
    "version": 3
   },
   "file_extension": ".py",
   "mimetype": "text/x-python",
   "name": "python",
   "nbconvert_exporter": "python",
   "pygments_lexer": "ipython3",
   "version": "3.10.9"
  }
 },
 "nbformat": 4,
 "nbformat_minor": 5
}
